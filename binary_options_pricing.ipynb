{
 "cells": [
  {
   "cell_type": "code",
   "execution_count": 4,
   "id": "2a372d62",
   "metadata": {},
   "outputs": [],
   "source": [
    "from __future__ import annotations\n",
    "import numpy as np\n",
    "import math\n",
    "from dataclasses import dataclass\n",
    "from typing import Literal, Tuple, Dict, List\n",
    "from scipy.stats import norm\n",
    "import numpy as np\n",
    "import matplotlib.pyplot as plt\n",
    "from dataclasses import dataclass, replace as dc_replace"
   ]
  },
  {
   "cell_type": "markdown",
   "id": "2d0fe044",
   "metadata": {},
   "source": [
    "### Q1.3"
   ]
  },
  {
   "cell_type": "code",
   "execution_count": 2,
   "id": "f5055775",
   "metadata": {},
   "outputs": [],
   "source": [
    "@dataclass\n",
    "class params:\n",
    "    S0: float      # initial asset price\n",
    "    v0: float      # initial variance\n",
    "    r: float       # risk‑free rate\n",
    "    kappa: float   # mean‑reversion speed of v_t\n",
    "    theta: float   # long‑run variance\n",
    "    xi: float      # volatility of volatility (\"vol‑of‑vol\")\n",
    "    rho: float     # correlation between dW_S and dW_v\n",
    "    T: float       # option maturity in years\n",
    "    K: float       # strike price\n",
    "    N: int         # number of time steps\n",
    "    M: int         # number of Monte Carlo paths\n",
    "\n",
    "p = params(\n",
    "    S0=100.0,\n",
    "    v0=0.04,  # 20% vol²\n",
    "    r=0.06,\n",
    "    kappa=2.0,\n",
    "    theta=0.04,\n",
    "    xi=0.25,\n",
    "    rho=-0.9,\n",
    "    T=1.0,\n",
    "    K=100.0,\n",
    "    N=1000,\n",
    "    M=100000\n",
    ")\n"
   ]
  },
  {
   "cell_type": "code",
   "execution_count": 3,
   "id": "30fdf5de",
   "metadata": {},
   "outputs": [],
   "source": [
    "class AssetPath():\n",
    "    def __init__(self, p: params):\n",
    "        self.parameters = p\n",
    "        self.Z1, self.Z2 = self.correlated_normals(p.rho, [p.M,p.N])\n",
    "\n",
    "    def correlated_normals(self, rho: float, size: Tuple[int, int]) -> Tuple[np.ndarray, np.ndarray]:\n",
    "        np.random.seed(42)\n",
    "        z1 = np.random.normal(size=size)\n",
    "        z2 = np.random.standard_normal(size=size)\n",
    "        z2 = rho * z1 + np.sqrt(1.0 - rho**2) * z2\n",
    "        return z1, z2\n",
    "\n",
    "    def simulate_gbm_paths(self, scheme: str) -> np.ndarray:\n",
    "        dt = self.parameters.T / self.parameters.N\n",
    "        sqrt_dt = np.sqrt(dt)\n",
    "\n",
    "        S = np.zeros((self.parameters.M, self.parameters.N + 1))\n",
    "        S[:, 0] = self.parameters.S0\n",
    "\n",
    "        dW_S = sqrt_dt * self.Z1\n",
    "        for n in range(self.parameters.N):\n",
    "            S_prev = S[:, n]\n",
    "\n",
    "            if scheme == \"euler\":\n",
    "\n",
    "                S_next = S_prev * np.exp(\n",
    "                    (self.parameters.r - 0.5 * p.v0) * dt + np.sqrt(p.v0) * dW_S[:, n]\n",
    "                )\n",
    "\n",
    "            elif scheme == \"milstein\":\n",
    "\n",
    "                S_next = S_prev * np.exp(\n",
    "                    (self.parameters.r - 0.5 * p.v0) * dt + np.sqrt(p.v0) * dW_S[:, n] \n",
    "                )\n",
    "\n",
    "            S[:, n + 1] = S_next\n",
    "\n",
    "        return S"
   ]
  },
  {
   "cell_type": "code",
   "execution_count": 4,
   "id": "e9e7734a",
   "metadata": {},
   "outputs": [],
   "source": [
    "assetpath = AssetPath(p)\n",
    "\n",
    "BS_euler_asset = assetpath.simulate_gbm_paths(scheme='euler')\n",
    "BS_milstein_asset = assetpath.simulate_gbm_paths(scheme='milstein')"
   ]
  },
  {
   "cell_type": "code",
   "execution_count": 5,
   "id": "8ef5f7f3",
   "metadata": {},
   "outputs": [],
   "source": [
    "def MS_binary_price(S: np.ndarray, p: params) -> Tuple[float, float]:\n",
    "    final_price = S[:,-1]\n",
    "    payoff = np.exp(-p.r*p.T)*(final_price > p.K).astype(int)\n",
    "    price = payoff.mean()\n",
    "    stderr = payoff.std(ddof=1) / np.sqrt(p.M)\n",
    "    return price, stderr, payoff\n",
    "\n",
    "def analytical_binary_price(p: params) -> float:\n",
    "    d = (np.log(p.S0/p.K) + (p.r - p.v0/2)*p.T)/np.abs(p.v0)*np.sqrt(p.T)\n",
    "    return np.exp(-p.r*p.T)*norm.cdf(d)"
   ]
  },
  {
   "cell_type": "code",
   "execution_count": 9,
   "id": "55e818b0",
   "metadata": {},
   "outputs": [],
   "source": [
    "euler_price, euler_stderr, euler_payoff = MS_binary_price(BS_euler_asset, p)\n",
    "milstein_price, milstein_stderr, milstein_payoff = MS_binary_price(BS_milstein_asset, p)\n",
    "\n",
    "bs_ref = analytical_binary_price(p)"
   ]
  },
  {
   "cell_type": "code",
   "execution_count": 10,
   "id": "b07de57a",
   "metadata": {},
   "outputs": [
    {
     "name": "stdout",
     "output_type": "stream",
     "text": [
      "\n",
      "Sanity GBM: MC Euler = 0.5436  Analytic = 0.7923  |Δ| = 2.4875e-01\n",
      "\n",
      "Sanity GBM: MC Milstein = 0.5436  Analytic = 0.7923  |Δ| = 2.4875e-01\n"
     ]
    }
   ],
   "source": [
    "print(\"\\nSanity GBM: MC Euler = {:.4f}  Analytic = {:.4f}  |Δ| = {:.4e}\".format(euler_price, bs_ref, abs(euler_price - bs_ref)))\n",
    "print(\"\\nSanity GBM: MC Milstein = {:.4f}  Analytic = {:.4f}  |Δ| = {:.4e}\".format(milstein_price, bs_ref, abs(milstein_price - bs_ref)))"
   ]
  },
  {
   "cell_type": "markdown",
   "id": "72685f02",
   "metadata": {},
   "source": [
    "### Q1.4"
   ]
  },
  {
   "cell_type": "code",
   "execution_count": 54,
   "id": "4f52218a",
   "metadata": {},
   "outputs": [],
   "source": [
    "@dataclass\n",
    "class FD_params:\n",
    "    S0: float       # Initial asset price\n",
    "    S_min: float   # Minimum asset price\n",
    "    S_max: float   # Maximum asset price\n",
    "    v0: float      # initial variance\n",
    "    r: float       # risk‑free rate\n",
    "    kappa: float   # mean‑reversion speed of v_t\n",
    "    theta: float   # long‑run variance\n",
    "    xi: float      # volatility of volatility (\"vol‑of‑vol\")\n",
    "    rho: float     # correlation between dW_S and dW_v\n",
    "    T: float       # option maturity in years\n",
    "    K: float       # strike price\n",
    "    N: int         # number of time steps\n",
    "    M: int         # number of stock steps\n",
    "\n",
    "p = FD_params(\n",
    "    S0=100.0,\n",
    "    S_min=90,\n",
    "    S_max=110,\n",
    "    v0=0.04,  # 20% vol²\n",
    "    r=0.06,\n",
    "    kappa=2.0,\n",
    "    theta=0.04,\n",
    "    xi=0.25,\n",
    "    rho=-0.9,\n",
    "    T=1.0,\n",
    "    K=100.0,\n",
    "    N=1000,\n",
    "    M=1000\n",
    ")\n"
   ]
  },
  {
   "cell_type": "code",
   "execution_count": 67,
   "id": "1cdfccec",
   "metadata": {},
   "outputs": [],
   "source": [
    "def implicit(p:FD_params) -> float:\n",
    "    q = 2*p.r/p.v0\n",
    "    a = 0.5*(q-1)\n",
    "    b = 0.25*(q + 1)**2\n",
    "    x = np.linspace(np.log(p.S_min/p.K), np.log(p.S_max/p.K), p.M)\n",
    "    t  = np.linspace(0, 0.5*p.v0*p.T, p.N)\n",
    "\n",
    "    dt = (0.5*p.v0*p.T)/p.N\n",
    "    dx = x[1] - x[0]\n",
    "    tau = dt\n",
    "    lamda = dt/dx**2\n",
    "\n",
    "    diag = np.ones(p.M) * (1+2*lamda)\n",
    "    off_diag = np.ones(p.M-1) * -lamda\n",
    "    A = np.diag(diag) + np.diag(off_diag, k=1) + np.diag(off_diag, k=-1)\n",
    "    A_inv = np.linalg.inv(A)\n",
    "\n",
    "    y = np.zeros([p.N, p.M], dtype=np.float128)\n",
    "    y[0,:] = np.where(np.exp(0.5*(q+1)*x) > np.exp(0.5*(q-1)*x), 1, 0)\n",
    "    \n",
    "    for i in range(1,p.N):\n",
    "        y[i,:] = np.matmul(A_inv, y[i-1,:])\n",
    "        y[i,-1] += lamda*2*dx*np.exp((a+1)*np.log(p.S_max/p.K) + b*tau)\n",
    "        tau+=dt\n",
    "    # price = (y[p.N-1,:]*p.K)/(np.exp(a*x + b*p.v0*p.T*0.2))\n",
    "    price = np.interp(np.log(p.S0/p.K), x, y[-1,:].astype(np.float64))\n",
    "\n",
    "    return price*p.K*np.exp(a*np.log(p.S0/p.K)+b*p.v0*0.5*p.T)\n"
   ]
  },
  {
   "cell_type": "code",
   "execution_count": 68,
   "id": "08aee7ee",
   "metadata": {},
   "outputs": [
    {
     "name": "stdout",
     "output_type": "stream",
     "text": [
      "0.5174891507801304\n"
     ]
    }
   ],
   "source": [
    "price = implicit(p)\n",
    "print(price)"
   ]
  },
  {
   "cell_type": "code",
   "execution_count": null,
   "id": "3e82534f",
   "metadata": {},
   "outputs": [],
   "source": [
    "def crank_nicolson(p:FD_params):\n",
    "    q = 2*p.r/p.v0\n",
    "    a = 0.5*(q-1)\n",
    "    b = 0.25*(q + 1)**2\n",
    "    x = np.linspace(np.log(p.S_min/p.K), np.log(p.S_max/p.K), p.M)\n",
    "\n",
    "    dt = (0.5*p.v0*p.T)/p.N\n",
    "    dx = x[1] - x[0]\n",
    "    tau = dt\n",
    "    lamda = dt/dx**2\n",
    "\n",
    "    diag1 = np.ones(p.M) * (1+lamda)\n",
    "    diag2 = np.ones(p.M) * (1-lamda)\n",
    "    off_diag = np.ones(p.M-1) * lamda/2\n",
    "    A1 = np.diag(diag1) + np.diag(-off_diag, k=1) + np.diag(-off_diag, k=-1)\n",
    "    A2 = np.diag(diag2) + np.diag(off_diag, k=1) + np.diag(off_diag, k=-1)\n",
    "    A1_inv = np.linalg.inv(A1)\n",
    "    A2_inv = np.linalg.inv(A2)\n",
    "\n",
    "    y = np.zeros([p.N, p.M], dtype=np.float128)\n",
    "    y[0,:] = np.where(np.exp(0.5*(q+1)*x) > np.exp(0.5*(q-1)*x), 1, 0)\n",
    "    \n",
    "    for i in range(1,p.N):\n",
    "        tmp = np.matmul(A2_inv, y[i-1,:]) + lamda*2*dx*np.exp((a+1)*np.log(p.S_max/p.K) + b*tau) - lamda*2*dx*np.exp((a+1)*np.log(p.S_max/p.K) + b*(tau-dt))\n",
    "        y[i,:] = np.matmul(A1_inv, tmp)\n",
    "        tau+=dt\n",
    "    price = np.interp(np.log(p.S0/p.K), x, y[-1,:].astype(np.float64))\n",
    "\n",
    "    return price*p.K*np.exp(a*np.log(p.S0/p.K)+b*p.v0*0.5*p.T)\n"
   ]
  },
  {
   "cell_type": "code",
   "execution_count": null,
   "id": "464e6235",
   "metadata": {},
   "outputs": [],
   "source": [
    "price_cn = crank_nicolson(p)\n",
    "print(price_cn)"
   ]
  },
  {
   "cell_type": "code",
   "execution_count": null,
   "id": "a201cb40",
   "metadata": {},
   "outputs": [],
   "source": []
  }
 ],
 "metadata": {
  "kernelspec": {
   "display_name": "comp-finance",
   "language": "python",
   "name": "python3"
  },
  "language_info": {
   "codemirror_mode": {
    "name": "ipython",
    "version": 3
   },
   "file_extension": ".py",
   "mimetype": "text/x-python",
   "name": "python",
   "nbconvert_exporter": "python",
   "pygments_lexer": "ipython3",
   "version": "3.11.11"
  }
 },
 "nbformat": 4,
 "nbformat_minor": 5
}
